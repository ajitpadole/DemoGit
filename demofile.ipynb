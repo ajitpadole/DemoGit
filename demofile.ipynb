{
 "cells": [
  {
   "cell_type": "markdown",
   "id": "64e941a2-cec2-4991-9407-dd68bc78bac1",
   "metadata": {},
   "source": [
    "### Data Science Python Practice Repository"
   ]
  },
  {
   "cell_type": "code",
   "execution_count": 1,
   "id": "c96724d4-2b9d-4515-87cb-a42596439759",
   "metadata": {
    "tags": []
   },
   "outputs": [],
   "source": [
    "import pandas as pd\n",
    "\n",
    "import numpy as np"
   ]
  },
  {
   "cell_type": "code",
   "execution_count": 2,
   "id": "9d9d6aa1-7362-4b7c-9d94-a0c625f8c82b",
   "metadata": {
    "tags": []
   },
   "outputs": [
    {
     "name": "stdout",
     "output_type": "stream",
     "text": [
      "Hello\n"
     ]
    }
   ],
   "source": [
    "print(\"Hello\")"
   ]
  },
  {
   "cell_type": "code",
   "execution_count": 3,
   "id": "42cf26eb-6d7f-477e-9859-c8c470936551",
   "metadata": {
    "tags": []
   },
   "outputs": [
    {
     "name": "stdout",
     "output_type": "stream",
     "text": [
      "Finaly complited\n"
     ]
    }
   ],
   "source": [
    "print(\"Finaly complited\")"
   ]
  },
  {
   "cell_type": "markdown",
   "id": "0d472261-bd87-4a68-bce2-bef330b73665",
   "metadata": {},
   "source": [
    "Question 1: Write a Python function that takes a list of numbers as input and returns a new list containing only the even numbers from the original list."
   ]
  },
  {
   "cell_type": "code",
   "execution_count": null,
   "id": "51f94bc2-8d5f-46ab-ad1e-e062be1e884d",
   "metadata": {
    "tags": []
   },
   "outputs": [],
   "source": [
    "# Defining function \n",
    "def is_even(num):\n",
    "    Newlist = []\n",
    "    for i in num:\n",
    "        if i%2==0:\n",
    "            Newlist.append(i)\n",
    "    print(Newlist)\n",
    "            \n",
    "num = [1,2,3,4,5,6,7,8,9]\n",
    "result = is_even(num)\n",
    "print(result)"
   ]
  },
  {
   "cell_type": "code",
   "execution_count": null,
   "id": "5f9b9db4-f645-4318-a61e-2246e8281cb5",
   "metadata": {},
   "outputs": [],
   "source": []
  }
 ],
 "metadata": {
  "kernelspec": {
   "display_name": "Python 3 (ipykernel)",
   "language": "python",
   "name": "python3"
  },
  "language_info": {
   "codemirror_mode": {
    "name": "ipython",
    "version": 3
   },
   "file_extension": ".py",
   "mimetype": "text/x-python",
   "name": "python",
   "nbconvert_exporter": "python",
   "pygments_lexer": "ipython3",
   "version": "3.9.16"
  }
 },
 "nbformat": 4,
 "nbformat_minor": 5
}
